{
 "cells": [
  {
   "cell_type": "code",
   "execution_count": 1,
   "id": "67e19fd3-04dc-4036-9fa9-ec9ccae7e04e",
   "metadata": {
    "scrolled": true
   },
   "outputs": [
    {
     "ename": "AttributeError",
     "evalue": "'Workbook' object has no attribute 'title'",
     "output_type": "error",
     "traceback": [
      "\u001b[1;31m---------------------------------------------------------------------------\u001b[0m",
      "\u001b[1;31mAttributeError\u001b[0m                            Traceback (most recent call last)",
      "Cell \u001b[1;32mIn[1], line 5\u001b[0m\n\u001b[0;32m      3\u001b[0m wb\u001b[38;5;241m=\u001b[39mWorkbook()\n\u001b[0;32m      4\u001b[0m ws\u001b[38;5;241m=\u001b[39mwb\u001b[38;5;241m.\u001b[39mactive\n\u001b[1;32m----> 5\u001b[0m ws\u001b[38;5;241m=\u001b[39mwb\u001b[38;5;241m.\u001b[39mtitle(\u001b[38;5;124m'\u001b[39m\u001b[38;5;124mSheet69\u001b[39m\u001b[38;5;124m'\u001b[39m)\n\u001b[0;32m      6\u001b[0m ws1\u001b[38;5;241m=\u001b[39mwb\u001b[38;5;241m.\u001b[39mcreate_sheet(\u001b[38;5;124m'\u001b[39m\u001b[38;5;124mRoll numbers\u001b[39m\u001b[38;5;124m'\u001b[39m,\u001b[38;5;241m0\u001b[39m)\n\u001b[0;32m      7\u001b[0m ws2\u001b[38;5;241m=\u001b[39mwb\u001b[38;5;241m.\u001b[39mcreate_sheet(\u001b[38;5;124m'\u001b[39m\u001b[38;5;124mCourses\u001b[39m\u001b[38;5;124m'\u001b[39m,\u001b[38;5;241m1\u001b[39m)\n",
      "\u001b[1;31mAttributeError\u001b[0m: 'Workbook' object has no attribute 'title'"
     ]
    }
   ],
   "source": [
    "from openpyxl import Workbook \n",
    "wb=Workbook()\n",
    "wb=Workbook()\n",
    "ws1=wb.create_sheet('Roll numbers',0)\n",
    "ws2=wb.create_sheet('Courses',1)\n",
    "ws1.cell(1,1).value='S.No'\n",
    "ws1.cell(1,2).value='Roll Numbers'\n",
    "for column in range(1,3,1):\n",
    "    for row in range(2,1231,1):\n",
    "        if column==1:\n",
    "            ws1.cell(row,column).value=row-1\n",
    "        if column==2:\n",
    "            ws1.cell(row,column).value=row-1+240000\n",
    "wb"
   ]
  },
  {
   "cell_type": "code",
   "execution_count": null,
   "id": "a24b3e27-f907-43ab-a3c6-22b2911f7dc6",
   "metadata": {},
   "outputs": [],
   "source": []
  }
 ],
 "metadata": {
  "kernelspec": {
   "display_name": "Python 3 (ipykernel)",
   "language": "python",
   "name": "python3"
  },
  "language_info": {
   "codemirror_mode": {
    "name": "ipython",
    "version": 3
   },
   "file_extension": ".py",
   "mimetype": "text/x-python",
   "name": "python",
   "nbconvert_exporter": "python",
   "pygments_lexer": "ipython3",
   "version": "3.12.4"
  }
 },
 "nbformat": 4,
 "nbformat_minor": 5
}
